{
 "cells": [
  {
   "cell_type": "markdown",
   "id": "38813eb8",
   "metadata": {},
   "source": [
    "# Исследование базы данных сервиса по чтению книг по подписке.\n",
    "\n",
    "# Описание проекта \n",
    "Коронавирус застал мир врасплох, изменив привычный порядок вещей. В свободное время жители городов больше не выходят на улицу, не посещают кафе и торговые центры. Зато стало больше времени для книг. Это заметили стартаперы — и бросились создавать приложения для тех, кто любит читать.\n",
    "\n",
    "Ваша компания решила быть на волне и купила крупный сервис для чтения книг по подписке. Ваша первая задача как аналитика — проанализировать базу данных.\n",
    "В ней — информация о книгах, издательствах, авторах, а также пользовательские обзоры книг. Эти данные помогут сформулировать ценностное предложение для нового продукта.\n",
    "\n",
    "\n",
    "# Задачи исследования\n",
    "1. Посчитать, сколько книг вышло после 1 января 2000 года;\n",
    "2. Для каждой книги посчитать количество обзоров и среднюю оценку;\n",
    "3. Определить издательство, которое выпустило наибольшее число книг толще 50 страниц, исключая из анализа брошюры;\n",
    "4. Определить автора с самой высокой средней оценкой книг, учитывая только книги с 50 и более оценками;\n",
    "5. Посчитать среднее количество обзоров от пользователей, которые поставили больше 48 оценок."
   ]
  },
  {
   "cell_type": "markdown",
   "id": "9ac1f227",
   "metadata": {},
   "source": [
    "## Загрузка данных"
   ]
  },
  {
   "cell_type": "code",
   "execution_count": 1,
   "id": "876f3ac0",
   "metadata": {},
   "outputs": [],
   "source": [
    "# импортируем библиотеки\n",
    "import pandas as pd\n",
    "import sqlalchemy as sa\n",
    "pd.set_option('display.max_colwidth', 1000)"
   ]
  },
  {
   "cell_type": "code",
   "execution_count": 2,
   "id": "4b3cb19b",
   "metadata": {},
   "outputs": [],
   "source": [
    "# устанавливаем параметры\n",
    "db_config = {\n",
    "    'user': 'user', # имя пользователя\n",
    "    'pwd': 'PASWORD', # пароль\n",
    "    'host': 'host',\n",
    "    'port': 1234, # порт подключения\n",
    "    'db': 'db' # название базы данных\n",
    "}\n",
    "connection_string = 'postgresql://{user}:{pwd}@{host}:{port}/{db}'.format(**db_config)"
   ]
  },
  {
   "cell_type": "code",
   "execution_count": 3,
   "id": "d4d7efee",
   "metadata": {},
   "outputs": [],
   "source": [
    "# сохраняем коннектор\n",
    "engine = sa.create_engine(connection_string, connect_args={'sslmode':'require'})"
   ]
  },
  {
   "cell_type": "code",
   "execution_count": 4,
   "id": "ee382420",
   "metadata": {},
   "outputs": [],
   "source": [
    "# чтобы выполнить SQL-запрос, пишем функцию с использованием Pandas\n",
    "def get_sql_data(query:str, engine:sa.engine.base.Engine=engine) -> pd.DataFrame:\n",
    "    '''Открываем соединение, получаем данные из sql, закрываем соединение'''\n",
    "    with engine.connect() as con:\n",
    "        return pd.read_sql(sql=sa.text(query), con = con)"
   ]
  },
  {
   "cell_type": "markdown",
   "id": "3b2d1ddf",
   "metadata": {},
   "source": [
    "## Первичный осмотр данных"
   ]
  },
  {
   "cell_type": "code",
   "execution_count": 5,
   "id": "b365c55e",
   "metadata": {},
   "outputs": [],
   "source": [
    "query_books = '''SELECT * FROM books LIMIT 5'''\n",
    "query_authors = '''SELECT * FROM authors LIMIT 5'''\n",
    "query_ratings = '''SELECT * FROM ratings LIMIT 5'''\n",
    "query_reviews = '''SELECT * FROM reviews LIMIT 5'''\n",
    "query_publishers = '''SELECT * FROM publishers LIMIT 5'''"
   ]
  },
  {
   "cell_type": "markdown",
   "id": "2f944340",
   "metadata": {},
   "source": [
    "### Таблица `books`"
   ]
  },
  {
   "cell_type": "code",
   "execution_count": 6,
   "id": "5816dec6",
   "metadata": {},
   "outputs": [
    {
     "data": {
      "text/html": [
       "<div>\n",
       "<style scoped>\n",
       "    .dataframe tbody tr th:only-of-type {\n",
       "        vertical-align: middle;\n",
       "    }\n",
       "\n",
       "    .dataframe tbody tr th {\n",
       "        vertical-align: top;\n",
       "    }\n",
       "\n",
       "    .dataframe thead th {\n",
       "        text-align: right;\n",
       "    }\n",
       "</style>\n",
       "<table border=\"1\" class=\"dataframe\">\n",
       "  <thead>\n",
       "    <tr style=\"text-align: right;\">\n",
       "      <th></th>\n",
       "      <th>book_id</th>\n",
       "      <th>author_id</th>\n",
       "      <th>title</th>\n",
       "      <th>num_pages</th>\n",
       "      <th>publication_date</th>\n",
       "      <th>publisher_id</th>\n",
       "    </tr>\n",
       "  </thead>\n",
       "  <tbody>\n",
       "    <tr>\n",
       "      <th>0</th>\n",
       "      <td>1</td>\n",
       "      <td>546</td>\n",
       "      <td>'Salem's Lot</td>\n",
       "      <td>594</td>\n",
       "      <td>2005-11-01</td>\n",
       "      <td>93</td>\n",
       "    </tr>\n",
       "    <tr>\n",
       "      <th>1</th>\n",
       "      <td>2</td>\n",
       "      <td>465</td>\n",
       "      <td>1 000 Places to See Before You Die</td>\n",
       "      <td>992</td>\n",
       "      <td>2003-05-22</td>\n",
       "      <td>336</td>\n",
       "    </tr>\n",
       "    <tr>\n",
       "      <th>2</th>\n",
       "      <td>3</td>\n",
       "      <td>407</td>\n",
       "      <td>13 Little Blue Envelopes (Little Blue Envelope  #1)</td>\n",
       "      <td>322</td>\n",
       "      <td>2010-12-21</td>\n",
       "      <td>135</td>\n",
       "    </tr>\n",
       "    <tr>\n",
       "      <th>3</th>\n",
       "      <td>4</td>\n",
       "      <td>82</td>\n",
       "      <td>1491: New Revelations of the Americas Before Columbus</td>\n",
       "      <td>541</td>\n",
       "      <td>2006-10-10</td>\n",
       "      <td>309</td>\n",
       "    </tr>\n",
       "    <tr>\n",
       "      <th>4</th>\n",
       "      <td>5</td>\n",
       "      <td>125</td>\n",
       "      <td>1776</td>\n",
       "      <td>386</td>\n",
       "      <td>2006-07-04</td>\n",
       "      <td>268</td>\n",
       "    </tr>\n",
       "  </tbody>\n",
       "</table>\n",
       "</div>"
      ],
      "text/plain": [
       "   book_id  author_id                                                  title  \\\n",
       "0        1        546                                           'Salem's Lot   \n",
       "1        2        465                     1 000 Places to See Before You Die   \n",
       "2        3        407    13 Little Blue Envelopes (Little Blue Envelope  #1)   \n",
       "3        4         82  1491: New Revelations of the Americas Before Columbus   \n",
       "4        5        125                                                   1776   \n",
       "\n",
       "   num_pages publication_date  publisher_id  \n",
       "0        594       2005-11-01            93  \n",
       "1        992       2003-05-22           336  \n",
       "2        322       2010-12-21           135  \n",
       "3        541       2006-10-10           309  \n",
       "4        386       2006-07-04           268  "
      ]
     },
     "execution_count": 6,
     "metadata": {},
     "output_type": "execute_result"
    }
   ],
   "source": [
    "get_sql_data(query_books)"
   ]
  },
  {
   "cell_type": "markdown",
   "id": "d2c2cc30",
   "metadata": {},
   "source": [
    "### Таблица `authors`"
   ]
  },
  {
   "cell_type": "code",
   "execution_count": 7,
   "id": "0f2f5f73",
   "metadata": {},
   "outputs": [
    {
     "data": {
      "text/html": [
       "<div>\n",
       "<style scoped>\n",
       "    .dataframe tbody tr th:only-of-type {\n",
       "        vertical-align: middle;\n",
       "    }\n",
       "\n",
       "    .dataframe tbody tr th {\n",
       "        vertical-align: top;\n",
       "    }\n",
       "\n",
       "    .dataframe thead th {\n",
       "        text-align: right;\n",
       "    }\n",
       "</style>\n",
       "<table border=\"1\" class=\"dataframe\">\n",
       "  <thead>\n",
       "    <tr style=\"text-align: right;\">\n",
       "      <th></th>\n",
       "      <th>author_id</th>\n",
       "      <th>author</th>\n",
       "    </tr>\n",
       "  </thead>\n",
       "  <tbody>\n",
       "    <tr>\n",
       "      <th>0</th>\n",
       "      <td>1</td>\n",
       "      <td>A.S. Byatt</td>\n",
       "    </tr>\n",
       "    <tr>\n",
       "      <th>1</th>\n",
       "      <td>2</td>\n",
       "      <td>Aesop/Laura Harris/Laura Gibbs</td>\n",
       "    </tr>\n",
       "    <tr>\n",
       "      <th>2</th>\n",
       "      <td>3</td>\n",
       "      <td>Agatha Christie</td>\n",
       "    </tr>\n",
       "    <tr>\n",
       "      <th>3</th>\n",
       "      <td>4</td>\n",
       "      <td>Alan Brennert</td>\n",
       "    </tr>\n",
       "    <tr>\n",
       "      <th>4</th>\n",
       "      <td>5</td>\n",
       "      <td>Alan Moore/David   Lloyd</td>\n",
       "    </tr>\n",
       "  </tbody>\n",
       "</table>\n",
       "</div>"
      ],
      "text/plain": [
       "   author_id                          author\n",
       "0          1                      A.S. Byatt\n",
       "1          2  Aesop/Laura Harris/Laura Gibbs\n",
       "2          3                 Agatha Christie\n",
       "3          4                   Alan Brennert\n",
       "4          5        Alan Moore/David   Lloyd"
      ]
     },
     "execution_count": 7,
     "metadata": {},
     "output_type": "execute_result"
    }
   ],
   "source": [
    "get_sql_data(query_authors)"
   ]
  },
  {
   "cell_type": "markdown",
   "id": "db8a06f6",
   "metadata": {},
   "source": [
    "### Таблица `ratings`"
   ]
  },
  {
   "cell_type": "code",
   "execution_count": 8,
   "id": "fea1dad6",
   "metadata": {},
   "outputs": [
    {
     "data": {
      "text/html": [
       "<div>\n",
       "<style scoped>\n",
       "    .dataframe tbody tr th:only-of-type {\n",
       "        vertical-align: middle;\n",
       "    }\n",
       "\n",
       "    .dataframe tbody tr th {\n",
       "        vertical-align: top;\n",
       "    }\n",
       "\n",
       "    .dataframe thead th {\n",
       "        text-align: right;\n",
       "    }\n",
       "</style>\n",
       "<table border=\"1\" class=\"dataframe\">\n",
       "  <thead>\n",
       "    <tr style=\"text-align: right;\">\n",
       "      <th></th>\n",
       "      <th>rating_id</th>\n",
       "      <th>book_id</th>\n",
       "      <th>username</th>\n",
       "      <th>rating</th>\n",
       "    </tr>\n",
       "  </thead>\n",
       "  <tbody>\n",
       "    <tr>\n",
       "      <th>0</th>\n",
       "      <td>1</td>\n",
       "      <td>1</td>\n",
       "      <td>ryanfranco</td>\n",
       "      <td>4</td>\n",
       "    </tr>\n",
       "    <tr>\n",
       "      <th>1</th>\n",
       "      <td>2</td>\n",
       "      <td>1</td>\n",
       "      <td>grantpatricia</td>\n",
       "      <td>2</td>\n",
       "    </tr>\n",
       "    <tr>\n",
       "      <th>2</th>\n",
       "      <td>3</td>\n",
       "      <td>1</td>\n",
       "      <td>brandtandrea</td>\n",
       "      <td>5</td>\n",
       "    </tr>\n",
       "    <tr>\n",
       "      <th>3</th>\n",
       "      <td>4</td>\n",
       "      <td>2</td>\n",
       "      <td>lorichen</td>\n",
       "      <td>3</td>\n",
       "    </tr>\n",
       "    <tr>\n",
       "      <th>4</th>\n",
       "      <td>5</td>\n",
       "      <td>2</td>\n",
       "      <td>mariokeller</td>\n",
       "      <td>2</td>\n",
       "    </tr>\n",
       "  </tbody>\n",
       "</table>\n",
       "</div>"
      ],
      "text/plain": [
       "   rating_id  book_id       username  rating\n",
       "0          1        1     ryanfranco       4\n",
       "1          2        1  grantpatricia       2\n",
       "2          3        1   brandtandrea       5\n",
       "3          4        2       lorichen       3\n",
       "4          5        2    mariokeller       2"
      ]
     },
     "execution_count": 8,
     "metadata": {},
     "output_type": "execute_result"
    }
   ],
   "source": [
    "get_sql_data(query_ratings)"
   ]
  },
  {
   "cell_type": "markdown",
   "id": "0fbefd62",
   "metadata": {},
   "source": [
    "### Таблица `reviews`"
   ]
  },
  {
   "cell_type": "code",
   "execution_count": 9,
   "id": "dba28073",
   "metadata": {},
   "outputs": [
    {
     "data": {
      "text/html": [
       "<div>\n",
       "<style scoped>\n",
       "    .dataframe tbody tr th:only-of-type {\n",
       "        vertical-align: middle;\n",
       "    }\n",
       "\n",
       "    .dataframe tbody tr th {\n",
       "        vertical-align: top;\n",
       "    }\n",
       "\n",
       "    .dataframe thead th {\n",
       "        text-align: right;\n",
       "    }\n",
       "</style>\n",
       "<table border=\"1\" class=\"dataframe\">\n",
       "  <thead>\n",
       "    <tr style=\"text-align: right;\">\n",
       "      <th></th>\n",
       "      <th>review_id</th>\n",
       "      <th>book_id</th>\n",
       "      <th>username</th>\n",
       "      <th>text</th>\n",
       "    </tr>\n",
       "  </thead>\n",
       "  <tbody>\n",
       "    <tr>\n",
       "      <th>0</th>\n",
       "      <td>1</td>\n",
       "      <td>1</td>\n",
       "      <td>brandtandrea</td>\n",
       "      <td>Mention society tell send professor analysis. Over provide race technology continue these.</td>\n",
       "    </tr>\n",
       "    <tr>\n",
       "      <th>1</th>\n",
       "      <td>2</td>\n",
       "      <td>1</td>\n",
       "      <td>ryanfranco</td>\n",
       "      <td>Foot glass pretty audience hit themselves. Among admit investment argue security.</td>\n",
       "    </tr>\n",
       "    <tr>\n",
       "      <th>2</th>\n",
       "      <td>3</td>\n",
       "      <td>2</td>\n",
       "      <td>lorichen</td>\n",
       "      <td>Listen treat keep worry. Miss husband tax but person sport treatment industry. Kitchen decision deep the. Social party body the.</td>\n",
       "    </tr>\n",
       "    <tr>\n",
       "      <th>3</th>\n",
       "      <td>4</td>\n",
       "      <td>3</td>\n",
       "      <td>johnsonamanda</td>\n",
       "      <td>Finally month interesting blue could nature cultural bit. Prepare beat finish grow that smile teach. Dream me play near.</td>\n",
       "    </tr>\n",
       "    <tr>\n",
       "      <th>4</th>\n",
       "      <td>5</td>\n",
       "      <td>3</td>\n",
       "      <td>scotttamara</td>\n",
       "      <td>Nation purpose heavy give wait song will. List dinner another whole positive radio fast. Music staff many green.</td>\n",
       "    </tr>\n",
       "  </tbody>\n",
       "</table>\n",
       "</div>"
      ],
      "text/plain": [
       "   review_id  book_id       username  \\\n",
       "0          1        1   brandtandrea   \n",
       "1          2        1     ryanfranco   \n",
       "2          3        2       lorichen   \n",
       "3          4        3  johnsonamanda   \n",
       "4          5        3    scotttamara   \n",
       "\n",
       "                                                                                                                               text  \n",
       "0                                        Mention society tell send professor analysis. Over provide race technology continue these.  \n",
       "1                                                 Foot glass pretty audience hit themselves. Among admit investment argue security.  \n",
       "2  Listen treat keep worry. Miss husband tax but person sport treatment industry. Kitchen decision deep the. Social party body the.  \n",
       "3          Finally month interesting blue could nature cultural bit. Prepare beat finish grow that smile teach. Dream me play near.  \n",
       "4                  Nation purpose heavy give wait song will. List dinner another whole positive radio fast. Music staff many green.  "
      ]
     },
     "execution_count": 9,
     "metadata": {},
     "output_type": "execute_result"
    }
   ],
   "source": [
    "get_sql_data(query_reviews)"
   ]
  },
  {
   "cell_type": "markdown",
   "id": "2a2691bc",
   "metadata": {},
   "source": [
    "### Таблица `publishers`"
   ]
  },
  {
   "cell_type": "code",
   "execution_count": 10,
   "id": "65c9839e",
   "metadata": {},
   "outputs": [
    {
     "data": {
      "text/html": [
       "<div>\n",
       "<style scoped>\n",
       "    .dataframe tbody tr th:only-of-type {\n",
       "        vertical-align: middle;\n",
       "    }\n",
       "\n",
       "    .dataframe tbody tr th {\n",
       "        vertical-align: top;\n",
       "    }\n",
       "\n",
       "    .dataframe thead th {\n",
       "        text-align: right;\n",
       "    }\n",
       "</style>\n",
       "<table border=\"1\" class=\"dataframe\">\n",
       "  <thead>\n",
       "    <tr style=\"text-align: right;\">\n",
       "      <th></th>\n",
       "      <th>publisher_id</th>\n",
       "      <th>publisher</th>\n",
       "    </tr>\n",
       "  </thead>\n",
       "  <tbody>\n",
       "    <tr>\n",
       "      <th>0</th>\n",
       "      <td>1</td>\n",
       "      <td>Ace</td>\n",
       "    </tr>\n",
       "    <tr>\n",
       "      <th>1</th>\n",
       "      <td>2</td>\n",
       "      <td>Ace Book</td>\n",
       "    </tr>\n",
       "    <tr>\n",
       "      <th>2</th>\n",
       "      <td>3</td>\n",
       "      <td>Ace Books</td>\n",
       "    </tr>\n",
       "    <tr>\n",
       "      <th>3</th>\n",
       "      <td>4</td>\n",
       "      <td>Ace Hardcover</td>\n",
       "    </tr>\n",
       "    <tr>\n",
       "      <th>4</th>\n",
       "      <td>5</td>\n",
       "      <td>Addison Wesley Publishing Company</td>\n",
       "    </tr>\n",
       "  </tbody>\n",
       "</table>\n",
       "</div>"
      ],
      "text/plain": [
       "   publisher_id                          publisher\n",
       "0             1                                Ace\n",
       "1             2                           Ace Book\n",
       "2             3                          Ace Books\n",
       "3             4                      Ace Hardcover\n",
       "4             5  Addison Wesley Publishing Company"
      ]
     },
     "execution_count": 10,
     "metadata": {},
     "output_type": "execute_result"
    }
   ],
   "source": [
    "get_sql_data(query_publishers)"
   ]
  },
  {
   "cell_type": "markdown",
   "id": "3b2da146",
   "metadata": {},
   "source": [
    "**Вывод:**\n",
    "Данные соответвуют описанию, таблицы корректы."
   ]
  },
  {
   "cell_type": "markdown",
   "id": "762a21fe",
   "metadata": {},
   "source": [
    "## Решение задач"
   ]
  },
  {
   "cell_type": "markdown",
   "id": "96334249",
   "metadata": {},
   "source": [
    "### Задача 1. Посчитать, сколько книг вышло после 1 января 2000 года"
   ]
  },
  {
   "cell_type": "code",
   "execution_count": 11,
   "id": "709aaf55",
   "metadata": {},
   "outputs": [],
   "source": [
    "query = '''\n",
    "        select  count(*) AS cnt_books\n",
    "        from books\n",
    "        where publication_date > '2000-01-01'\n",
    "        '''"
   ]
  },
  {
   "cell_type": "code",
   "execution_count": 12,
   "id": "28ed7e14",
   "metadata": {},
   "outputs": [
    {
     "data": {
      "text/html": [
       "<div>\n",
       "<style scoped>\n",
       "    .dataframe tbody tr th:only-of-type {\n",
       "        vertical-align: middle;\n",
       "    }\n",
       "\n",
       "    .dataframe tbody tr th {\n",
       "        vertical-align: top;\n",
       "    }\n",
       "\n",
       "    .dataframe thead th {\n",
       "        text-align: right;\n",
       "    }\n",
       "</style>\n",
       "<table border=\"1\" class=\"dataframe\">\n",
       "  <thead>\n",
       "    <tr style=\"text-align: right;\">\n",
       "      <th></th>\n",
       "      <th>cnt_books</th>\n",
       "    </tr>\n",
       "  </thead>\n",
       "  <tbody>\n",
       "    <tr>\n",
       "      <th>0</th>\n",
       "      <td>819</td>\n",
       "    </tr>\n",
       "  </tbody>\n",
       "</table>\n",
       "</div>"
      ],
      "text/plain": [
       "   cnt_books\n",
       "0        819"
      ]
     },
     "execution_count": 12,
     "metadata": {},
     "output_type": "execute_result"
    }
   ],
   "source": [
    "get_sql_data(query)"
   ]
  },
  {
   "cell_type": "markdown",
   "id": "6f995ffb",
   "metadata": {},
   "source": [
    "**Вывод:** \n",
    "\n",
    "C 1 января 2000 года было опубликовано 819 книг"
   ]
  },
  {
   "cell_type": "markdown",
   "id": "bb3e44f3",
   "metadata": {},
   "source": [
    "### Задача 2. Для каждой книги посчитать количество обзоров и среднюю оценку"
   ]
  },
  {
   "cell_type": "code",
   "execution_count": 19,
   "id": "493fa222",
   "metadata": {},
   "outputs": [],
   "source": [
    "query = '''\n",
    "        SELECT DISTINCT(b.title),\n",
    "                round(AVG(rating) OVER (PARTITION BY r.book_id),2) AS rt,\n",
    "                cnt.cnt_rev\n",
    "        FROM ratings r \n",
    "        INNER JOIN books b ON r.book_id = b.book_id \n",
    "        LEFT JOIN (\n",
    "                SELECT DISTINCT(book_id) AS b_id,\n",
    "                        count(review_id) OVER (PARTITION BY book_id) AS cnt_rev\n",
    "                FROM reviews r ) AS cnt\n",
    "        ON r.book_id = cnt.b_id\n",
    "        ORDER BY cnt_rev DESC, rt DESC\n",
    "        LIMIT 10;\n",
    "        '''"
   ]
  },
  {
   "cell_type": "code",
   "execution_count": 20,
   "id": "52ea8a3d",
   "metadata": {},
   "outputs": [
    {
     "data": {
      "text/html": [
       "<div>\n",
       "<style scoped>\n",
       "    .dataframe tbody tr th:only-of-type {\n",
       "        vertical-align: middle;\n",
       "    }\n",
       "\n",
       "    .dataframe tbody tr th {\n",
       "        vertical-align: top;\n",
       "    }\n",
       "\n",
       "    .dataframe thead th {\n",
       "        text-align: right;\n",
       "    }\n",
       "</style>\n",
       "<table border=\"1\" class=\"dataframe\">\n",
       "  <thead>\n",
       "    <tr style=\"text-align: right;\">\n",
       "      <th></th>\n",
       "      <th>title</th>\n",
       "      <th>rt</th>\n",
       "      <th>cnt_rev</th>\n",
       "    </tr>\n",
       "  </thead>\n",
       "  <tbody>\n",
       "    <tr>\n",
       "      <th>0</th>\n",
       "      <td>The Cat in the Hat and Other Dr. Seuss Favorites</td>\n",
       "      <td>5.00</td>\n",
       "      <td>NaN</td>\n",
       "    </tr>\n",
       "    <tr>\n",
       "      <th>1</th>\n",
       "      <td>Essential Tales and Poems</td>\n",
       "      <td>4.00</td>\n",
       "      <td>NaN</td>\n",
       "    </tr>\n",
       "    <tr>\n",
       "      <th>2</th>\n",
       "      <td>Leonardo's Notebooks</td>\n",
       "      <td>4.00</td>\n",
       "      <td>NaN</td>\n",
       "    </tr>\n",
       "    <tr>\n",
       "      <th>3</th>\n",
       "      <td>Disney's Beauty and the Beast (A Little Golden Book)</td>\n",
       "      <td>4.00</td>\n",
       "      <td>NaN</td>\n",
       "    </tr>\n",
       "    <tr>\n",
       "      <th>4</th>\n",
       "      <td>Anne Rice's The Vampire Lestat: A Graphic Novel</td>\n",
       "      <td>3.67</td>\n",
       "      <td>NaN</td>\n",
       "    </tr>\n",
       "    <tr>\n",
       "      <th>5</th>\n",
       "      <td>The Natural Way to Draw</td>\n",
       "      <td>3.00</td>\n",
       "      <td>NaN</td>\n",
       "    </tr>\n",
       "    <tr>\n",
       "      <th>6</th>\n",
       "      <td>Twilight (Twilight  #1)</td>\n",
       "      <td>3.66</td>\n",
       "      <td>7.0</td>\n",
       "    </tr>\n",
       "    <tr>\n",
       "      <th>7</th>\n",
       "      <td>Harry Potter and the Prisoner of Azkaban (Harry Potter  #3)</td>\n",
       "      <td>4.41</td>\n",
       "      <td>6.0</td>\n",
       "    </tr>\n",
       "    <tr>\n",
       "      <th>8</th>\n",
       "      <td>Harry Potter and the Chamber of Secrets (Harry Potter  #2)</td>\n",
       "      <td>4.29</td>\n",
       "      <td>6.0</td>\n",
       "    </tr>\n",
       "    <tr>\n",
       "      <th>9</th>\n",
       "      <td>The Book Thief</td>\n",
       "      <td>4.26</td>\n",
       "      <td>6.0</td>\n",
       "    </tr>\n",
       "  </tbody>\n",
       "</table>\n",
       "</div>"
      ],
      "text/plain": [
       "                                                         title    rt  cnt_rev\n",
       "0             The Cat in the Hat and Other Dr. Seuss Favorites  5.00      NaN\n",
       "1                                    Essential Tales and Poems  4.00      NaN\n",
       "2                                         Leonardo's Notebooks  4.00      NaN\n",
       "3         Disney's Beauty and the Beast (A Little Golden Book)  4.00      NaN\n",
       "4              Anne Rice's The Vampire Lestat: A Graphic Novel  3.67      NaN\n",
       "5                                      The Natural Way to Draw  3.00      NaN\n",
       "6                                      Twilight (Twilight  #1)  3.66      7.0\n",
       "7  Harry Potter and the Prisoner of Azkaban (Harry Potter  #3)  4.41      6.0\n",
       "8   Harry Potter and the Chamber of Secrets (Harry Potter  #2)  4.29      6.0\n",
       "9                                               The Book Thief  4.26      6.0"
      ]
     },
     "execution_count": 20,
     "metadata": {},
     "output_type": "execute_result"
    }
   ],
   "source": [
    "get_sql_data(query)"
   ]
  },
  {
   "cell_type": "code",
   "execution_count": 26,
   "id": "cfed014f",
   "metadata": {},
   "outputs": [],
   "source": [
    "query = '''\n",
    "        SELECT DISTINCT(b.title),\n",
    "                round(AVG(rating) OVER (PARTITION BY r.book_id),2) AS rt,\n",
    "                cnt.cnt_rev\n",
    "        FROM ratings r \n",
    "        INNER JOIN books b ON r.book_id = b.book_id \n",
    "        LEFT JOIN (\n",
    "                SELECT DISTINCT(book_id) AS b_id,\n",
    "                        count(review_id) OVER (PARTITION BY book_id) AS cnt_rev\n",
    "                FROM reviews r ) AS cnt\n",
    "        ON r.book_id = cnt.b_id\n",
    "        ORDER BY rt DESC, cnt_rev DESC;\n",
    "        '''"
   ]
  },
  {
   "cell_type": "code",
   "execution_count": 27,
   "id": "2c31dfc2",
   "metadata": {},
   "outputs": [
    {
     "data": {
      "text/html": [
       "<div>\n",
       "<style scoped>\n",
       "    .dataframe tbody tr th:only-of-type {\n",
       "        vertical-align: middle;\n",
       "    }\n",
       "\n",
       "    .dataframe tbody tr th {\n",
       "        vertical-align: top;\n",
       "    }\n",
       "\n",
       "    .dataframe thead th {\n",
       "        text-align: right;\n",
       "    }\n",
       "</style>\n",
       "<table border=\"1\" class=\"dataframe\">\n",
       "  <thead>\n",
       "    <tr style=\"text-align: right;\">\n",
       "      <th></th>\n",
       "      <th>title</th>\n",
       "      <th>rt</th>\n",
       "      <th>cnt_rev</th>\n",
       "    </tr>\n",
       "  </thead>\n",
       "  <tbody>\n",
       "    <tr>\n",
       "      <th>0</th>\n",
       "      <td>The Cat in the Hat and Other Dr. Seuss Favorites</td>\n",
       "      <td>5.00</td>\n",
       "      <td>NaN</td>\n",
       "    </tr>\n",
       "    <tr>\n",
       "      <th>1</th>\n",
       "      <td>A Dirty Job (Grim Reaper  #1)</td>\n",
       "      <td>5.00</td>\n",
       "      <td>4.0</td>\n",
       "    </tr>\n",
       "    <tr>\n",
       "      <th>2</th>\n",
       "      <td>Moneyball: The Art of Winning an Unfair Game</td>\n",
       "      <td>5.00</td>\n",
       "      <td>3.0</td>\n",
       "    </tr>\n",
       "    <tr>\n",
       "      <th>3</th>\n",
       "      <td>School's Out—Forever (Maximum Ride  #2)</td>\n",
       "      <td>5.00</td>\n",
       "      <td>3.0</td>\n",
       "    </tr>\n",
       "    <tr>\n",
       "      <th>4</th>\n",
       "      <td>A Fistful of Charms (The Hollows  #4)</td>\n",
       "      <td>5.00</td>\n",
       "      <td>2.0</td>\n",
       "    </tr>\n",
       "    <tr>\n",
       "      <th>...</th>\n",
       "      <td>...</td>\n",
       "      <td>...</td>\n",
       "      <td>...</td>\n",
       "    </tr>\n",
       "    <tr>\n",
       "      <th>995</th>\n",
       "      <td>The World Is Flat: A Brief History of the Twenty-first Century</td>\n",
       "      <td>2.25</td>\n",
       "      <td>3.0</td>\n",
       "    </tr>\n",
       "    <tr>\n",
       "      <th>996</th>\n",
       "      <td>Drowning Ruth</td>\n",
       "      <td>2.00</td>\n",
       "      <td>3.0</td>\n",
       "    </tr>\n",
       "    <tr>\n",
       "      <th>997</th>\n",
       "      <td>His Excellency: George Washington</td>\n",
       "      <td>2.00</td>\n",
       "      <td>2.0</td>\n",
       "    </tr>\n",
       "    <tr>\n",
       "      <th>998</th>\n",
       "      <td>Junky</td>\n",
       "      <td>2.00</td>\n",
       "      <td>2.0</td>\n",
       "    </tr>\n",
       "    <tr>\n",
       "      <th>999</th>\n",
       "      <td>Harvesting the Heart</td>\n",
       "      <td>1.50</td>\n",
       "      <td>2.0</td>\n",
       "    </tr>\n",
       "  </tbody>\n",
       "</table>\n",
       "<p>1000 rows × 3 columns</p>\n",
       "</div>"
      ],
      "text/plain": [
       "                                                              title    rt  \\\n",
       "0                  The Cat in the Hat and Other Dr. Seuss Favorites  5.00   \n",
       "1                                     A Dirty Job (Grim Reaper  #1)  5.00   \n",
       "2                      Moneyball: The Art of Winning an Unfair Game  5.00   \n",
       "3                           School's Out—Forever (Maximum Ride  #2)  5.00   \n",
       "4                             A Fistful of Charms (The Hollows  #4)  5.00   \n",
       "..                                                              ...   ...   \n",
       "995  The World Is Flat: A Brief History of the Twenty-first Century  2.25   \n",
       "996                                                   Drowning Ruth  2.00   \n",
       "997                               His Excellency: George Washington  2.00   \n",
       "998                                                           Junky  2.00   \n",
       "999                                            Harvesting the Heart  1.50   \n",
       "\n",
       "     cnt_rev  \n",
       "0        NaN  \n",
       "1        4.0  \n",
       "2        3.0  \n",
       "3        3.0  \n",
       "4        2.0  \n",
       "..       ...  \n",
       "995      3.0  \n",
       "996      3.0  \n",
       "997      2.0  \n",
       "998      2.0  \n",
       "999      2.0  \n",
       "\n",
       "[1000 rows x 3 columns]"
      ]
     },
     "execution_count": 27,
     "metadata": {},
     "output_type": "execute_result"
    }
   ],
   "source": [
    "get_sql_data(query)"
   ]
  },
  {
   "cell_type": "markdown",
   "id": "480237ac",
   "metadata": {},
   "source": [
    "**Вывод:**\n",
    "\n",
    "Не все книги имеют обзоры. \n",
    "\n",
    "Наибольшее количество обзоров на книгу \"Twilight (Twilight #1)\" - 7, оценка при этом 3.66\n",
    "\n",
    "Книга \"A Dirty Job (Grim Reaper #1)\" с 4-мя обзорами и меет оценку 5 \n",
    "\n",
    "Самая низкий рейтинг - 1.5 имеет книга \"Harvesting the Heart\" и на неё написано 2 обзора.\n"
   ]
  },
  {
   "cell_type": "markdown",
   "id": "2a3d2580",
   "metadata": {},
   "source": [
    "### Задача 3. Определить издательство, которое выпустило наибольшее число книг толще 50 страниц, исключая из анализа брошюры"
   ]
  },
  {
   "cell_type": "code",
   "execution_count": 28,
   "id": "cfa93277",
   "metadata": {},
   "outputs": [],
   "source": [
    "query = '''\n",
    "        SELECT p.publisher,\n",
    "            m.cnt_book\n",
    "        FROM publishers p\t\n",
    "        INNER JOIN (\n",
    "                SELECT DISTINCT(publisher_id) AS pbl,\n",
    "                    count(book_id) OVER (PARTITION BY publisher_id) AS cnt_book\n",
    "                FROM books b \n",
    "                WHERE num_pages > 50\n",
    "                ORDER BY cnt_book DESC \n",
    "            ) AS m\n",
    "        ON p.publisher_id = m.pbl\n",
    "        LIMIT 1\n",
    "        '''"
   ]
  },
  {
   "cell_type": "code",
   "execution_count": 18,
   "id": "447c6f04",
   "metadata": {},
   "outputs": [
    {
     "data": {
      "text/html": [
       "<div>\n",
       "<style scoped>\n",
       "    .dataframe tbody tr th:only-of-type {\n",
       "        vertical-align: middle;\n",
       "    }\n",
       "\n",
       "    .dataframe tbody tr th {\n",
       "        vertical-align: top;\n",
       "    }\n",
       "\n",
       "    .dataframe thead th {\n",
       "        text-align: right;\n",
       "    }\n",
       "</style>\n",
       "<table border=\"1\" class=\"dataframe\">\n",
       "  <thead>\n",
       "    <tr style=\"text-align: right;\">\n",
       "      <th></th>\n",
       "      <th>publisher</th>\n",
       "    </tr>\n",
       "  </thead>\n",
       "  <tbody>\n",
       "    <tr>\n",
       "      <th>0</th>\n",
       "      <td>Penguin Books</td>\n",
       "    </tr>\n",
       "  </tbody>\n",
       "</table>\n",
       "</div>"
      ],
      "text/plain": [
       "       publisher\n",
       "0  Penguin Books"
      ]
     },
     "execution_count": 18,
     "metadata": {},
     "output_type": "execute_result"
    }
   ],
   "source": [
    "get_sql_data(query)"
   ]
  },
  {
   "cell_type": "markdown",
   "id": "74a34304",
   "metadata": {},
   "source": [
    "**Вывод:**\n",
    "\n",
    "Больше всего книг было выпущено издательством \"Penguin Books\", они выпустили 42 книги."
   ]
  },
  {
   "cell_type": "markdown",
   "id": "c01c0a6e",
   "metadata": {},
   "source": [
    "### Задача 4. Определить автора с самой высокой средней оценкой книг, учитывая только книги с 50 и более оценками"
   ]
  },
  {
   "cell_type": "code",
   "execution_count": 31,
   "id": "996f27eb",
   "metadata": {},
   "outputs": [],
   "source": [
    "query = '''\n",
    "    WITH max_avg_author AS (\n",
    "                    SELECT DISTINCT author_id AS aut_id,\n",
    "                        round(avg(b_rt.avg_rt) OVER (PARTITION BY author_id), 2) AS avg_rt_aut\n",
    "                    FROM books b \n",
    "                    INNER JOIN (\n",
    "                            SELECT book_id AS id_b,\n",
    "                                round(avg(rating), 2) AS avg_rt\n",
    "                            FROM ratings r \n",
    "                            GROUP BY book_id \n",
    "                            HAVING count(rating_id) >= 50 \n",
    "                            ) AS b_rt\n",
    "                    ON b.book_id = b_rt.id_b\n",
    "                    ORDER BY avg_rt_aut DESC\n",
    "                    LIMIT 1)\n",
    "                    \n",
    "        SELECT author,\n",
    "            max_avg_author.avg_rt_aut\n",
    "        FROM author a \n",
    "        INNER JOIN max_avg_author\n",
    "        ON a.author_id = max_avg_author.aut_id\n",
    "        '''"
   ]
  },
  {
   "cell_type": "code",
   "execution_count": 32,
   "id": "80cc041b",
   "metadata": {},
   "outputs": [
    {
     "data": {
      "text/html": [
       "<div>\n",
       "<style scoped>\n",
       "    .dataframe tbody tr th:only-of-type {\n",
       "        vertical-align: middle;\n",
       "    }\n",
       "\n",
       "    .dataframe tbody tr th {\n",
       "        vertical-align: top;\n",
       "    }\n",
       "\n",
       "    .dataframe thead th {\n",
       "        text-align: right;\n",
       "    }\n",
       "</style>\n",
       "<table border=\"1\" class=\"dataframe\">\n",
       "  <thead>\n",
       "    <tr style=\"text-align: right;\">\n",
       "      <th></th>\n",
       "      <th>author</th>\n",
       "      <th>avg_rt_aut</th>\n",
       "    </tr>\n",
       "  </thead>\n",
       "  <tbody>\n",
       "    <tr>\n",
       "      <th>0</th>\n",
       "      <td>J.K. Rowling/Mary GrandPré</td>\n",
       "      <td>4.29</td>\n",
       "    </tr>\n",
       "  </tbody>\n",
       "</table>\n",
       "</div>"
      ],
      "text/plain": [
       "                       author  avg_rt_aut\n",
       "0  J.K. Rowling/Mary GrandPré        4.29"
      ]
     },
     "execution_count": 32,
     "metadata": {},
     "output_type": "execute_result"
    }
   ],
   "source": [
    "get_sql_data(query)"
   ]
  },
  {
   "cell_type": "markdown",
   "id": "bec775ac",
   "metadata": {},
   "source": [
    "**Вывод:** \n",
    "\n",
    "Самую высокую средний рейтинг за свои книги (оценок свыше 50) получила J.K. Rowling/Mary GrandPré, средняя оценка её книг составляет 4.29."
   ]
  },
  {
   "cell_type": "markdown",
   "id": "fb1de097",
   "metadata": {},
   "source": [
    "### Задача 5. Посчитать среднее количество обзоров от пользователей, которые поставили больше 48 оценок"
   ]
  },
  {
   "cell_type": "code",
   "execution_count": 33,
   "id": "8942d1f9",
   "metadata": {},
   "outputs": [],
   "source": [
    "query = '''\n",
    "        select round(avg(many_cnt.cnt))\n",
    "        from (\n",
    "            select r.username,\n",
    "                count(r.review_id) as cnt\n",
    "            from reviews r inner join \n",
    "                    (\n",
    "                        select username as us,\n",
    "                    count(rating_id) as rt\n",
    "                    from ratings r \n",
    "                    group by r.username \n",
    "                    having count(rating_id) > 48) as users\n",
    "                    on r.username = users.us\n",
    "        group by r.username\n",
    "        ) as many_cnt'''"
   ]
  },
  {
   "cell_type": "code",
   "execution_count": 34,
   "id": "556ba222",
   "metadata": {},
   "outputs": [
    {
     "data": {
      "text/html": [
       "<div>\n",
       "<style scoped>\n",
       "    .dataframe tbody tr th:only-of-type {\n",
       "        vertical-align: middle;\n",
       "    }\n",
       "\n",
       "    .dataframe tbody tr th {\n",
       "        vertical-align: top;\n",
       "    }\n",
       "\n",
       "    .dataframe thead th {\n",
       "        text-align: right;\n",
       "    }\n",
       "</style>\n",
       "<table border=\"1\" class=\"dataframe\">\n",
       "  <thead>\n",
       "    <tr style=\"text-align: right;\">\n",
       "      <th></th>\n",
       "      <th>round</th>\n",
       "    </tr>\n",
       "  </thead>\n",
       "  <tbody>\n",
       "    <tr>\n",
       "      <th>0</th>\n",
       "      <td>24.0</td>\n",
       "    </tr>\n",
       "  </tbody>\n",
       "</table>\n",
       "</div>"
      ],
      "text/plain": [
       "   round\n",
       "0   24.0"
      ]
     },
     "execution_count": 34,
     "metadata": {},
     "output_type": "execute_result"
    }
   ],
   "source": [
    "get_sql_data(query)"
   ]
  },
  {
   "cell_type": "markdown",
   "id": "bd2a12de",
   "metadata": {},
   "source": [
    "**Вывод:**\n",
    "\n",
    "Среди пользователей, поставивиших больше 48 оценок, в среденм написано по 24 обзора"
   ]
  },
  {
   "cell_type": "markdown",
   "id": "ccadd36b",
   "metadata": {},
   "source": [
    "# Общий вывод\n",
    "1. С 1 января 2000 года было выпубщено и опубликовано в приложении 819 книг;\n",
    "2. Самой популярной книгой для написания обзоров была \"Twilight\" (part 1);\n",
    "3. Издательство \"Penguin Books\" выпустило больше всего опубликованных книг в приложении с содержанием больше 50 страниц;\n",
    "4. J.K. Rowling/Mary GrandPré самый высоко оценимый автор пользователями с более 50 поставленными оценками;\n",
    "5. Пользователи, поставившие больше 48 оценок, опубликовали в среднем по 24 обзоры на книги."
   ]
  },
  {
   "cell_type": "markdown",
   "id": "9d2f38f2",
   "metadata": {},
   "source": [
    "**Рекомендации:**\n",
    "1. Рекомендуется обратить внимание на книги с 2-мя обзорами и, возможно, завышенными оценками;\n",
    "2. Рекомендуется пополнить базу книг, т.к. 1000 книг мало (в том же Google Play Книги более 250 тыс.), не каждый пользователь сможет найти, что ему \"по душе\";\n",
    "3. Рекомендуется мотивировать пользователей писать отзывы, тогда качество оценки будет лучше.\n"
   ]
  }
 ],
 "metadata": {
  "ExecuteTimeLog": [
   {
    "duration": 457,
    "start_time": "2024-01-26T02:17:02.717Z"
   },
   {
    "duration": 2,
    "start_time": "2024-01-26T02:17:03.176Z"
   },
   {
    "duration": 10589,
    "start_time": "2024-01-26T02:17:03.180Z"
   },
   {
    "duration": 3,
    "start_time": "2024-01-26T02:17:13.771Z"
   },
   {
    "duration": 22,
    "start_time": "2024-01-26T02:17:13.775Z"
   },
   {
    "duration": 245,
    "start_time": "2024-01-26T02:17:13.798Z"
   },
   {
    "duration": 56,
    "start_time": "2024-01-26T02:17:14.044Z"
   },
   {
    "duration": 65,
    "start_time": "2024-01-26T02:17:14.101Z"
   },
   {
    "duration": 52,
    "start_time": "2024-01-26T02:17:14.167Z"
   },
   {
    "duration": 56,
    "start_time": "2024-01-26T02:17:14.222Z"
   },
   {
    "duration": 2,
    "start_time": "2024-01-26T02:17:14.279Z"
   },
   {
    "duration": 54,
    "start_time": "2024-01-26T02:17:14.282Z"
   },
   {
    "duration": 2,
    "start_time": "2024-01-26T02:17:14.338Z"
   },
   {
    "duration": 96,
    "start_time": "2024-01-26T02:17:14.341Z"
   },
   {
    "duration": 2,
    "start_time": "2024-01-26T02:17:14.439Z"
   },
   {
    "duration": 75,
    "start_time": "2024-01-26T02:17:14.442Z"
   },
   {
    "duration": 2,
    "start_time": "2024-01-26T02:17:14.519Z"
   },
   {
    "duration": 57,
    "start_time": "2024-01-26T02:17:14.523Z"
   },
   {
    "duration": 2,
    "start_time": "2024-01-26T02:17:14.582Z"
   },
   {
    "duration": 70,
    "start_time": "2024-01-26T02:17:14.586Z"
   },
   {
    "duration": 3,
    "start_time": "2024-01-26T02:17:14.665Z"
   },
   {
    "duration": 95,
    "start_time": "2024-01-26T02:17:14.669Z"
   },
   {
    "duration": 2,
    "start_time": "2024-01-26T02:19:19.227Z"
   },
   {
    "duration": 55,
    "start_time": "2024-01-26T02:19:19.883Z"
   },
   {
    "duration": 3,
    "start_time": "2024-01-26T02:19:23.863Z"
   },
   {
    "duration": 57,
    "start_time": "2024-01-26T02:19:24.707Z"
   }
  ],
  "kernelspec": {
   "display_name": "Python 3 (ipykernel)",
   "language": "python",
   "name": "python3"
  },
  "language_info": {
   "codemirror_mode": {
    "name": "ipython",
    "version": 3
   },
   "file_extension": ".py",
   "mimetype": "text/x-python",
   "name": "python",
   "nbconvert_exporter": "python",
   "pygments_lexer": "ipython3",
   "version": "3.11.5"
  },
  "toc": {
   "base_numbering": 1,
   "nav_menu": {},
   "number_sections": true,
   "sideBar": true,
   "skip_h1_title": true,
   "title_cell": "Содержание",
   "title_sidebar": "Содержание",
   "toc_cell": false,
   "toc_position": {
    "height": "calc(100% - 180px)",
    "left": "10px",
    "top": "150px",
    "width": "307.2px"
   },
   "toc_section_display": true,
   "toc_window_display": false
  }
 },
 "nbformat": 4,
 "nbformat_minor": 5
}
