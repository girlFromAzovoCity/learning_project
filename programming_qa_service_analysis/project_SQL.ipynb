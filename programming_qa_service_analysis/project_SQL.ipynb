{
 "cells": [
  {
   "cell_type": "markdown",
   "id": "2e41982e",
   "metadata": {},
   "source": [
    "**1.1** Найдите количество вопросов, которые набрали больше 300 очков или как минимум 100 раз были добавлены в «Закладки»."
   ]
  },
  {
   "cell_type": "markdown",
   "id": "fe9ba992",
   "metadata": {},
   "source": [
    "``` postgresql\n",
    "SELECT COUNT(*)  \n",
    "FROM stackoverflow.posts  \n",
    "WHERE post_type_id = 1 AND (score > 300 OR favorites_count >= 100)\n",
    "```"
   ]
  },
  {
   "cell_type": "markdown",
   "id": "005563e6",
   "metadata": {},
   "source": [
    "**1.2** Сколько в среднем в день задавали вопросов с 1 по 18 ноября 2008 включительно? Результат округлите до целого числа."
   ]
  },
  {
   "cell_type": "markdown",
   "id": "65e92162",
   "metadata": {},
   "source": [
    "``` postgresql\n",
    "SELECT ROUND(AVG(cnt))  \n",
    "FROM (  \n",
    "SELECT creation_date::date,  \n",
    "       COUNT(id) AS cnt  \n",
    "FROM stackoverflow.posts  \n",
    "WHERE post_type_id = 1 AND creation_date::date BETWEEN '2008-11-01' AND '2008-11-18'  \n",
    "GROUP BY creation_date::date  \n",
    ") AS per  \n",
    "```"
   ]
  },
  {
   "cell_type": "markdown",
   "id": "dc7cc9b3",
   "metadata": {},
   "source": [
    "**1.3** Сколько пользователей получили значки сразу в день регистрации? Выведите количество уникальных пользователей."
   ]
  },
  {
   "cell_type": "markdown",
   "id": "0ed16fad",
   "metadata": {},
   "source": [
    "```postgresql\n",
    "SELECT COUNT(DISTINCT(u.id))  \n",
    "FROM stackoverflow.users AS u  \n",
    "JOIN stackoverflow.badges AS b ON u.id = b.user_id  \n",
    "WHERE u.creation_date::date = b.creation_date::date  \n",
    "```"
   ]
  },
  {
   "cell_type": "markdown",
   "id": "716b8641",
   "metadata": {},
   "source": [
    "**1.4** Сколько уникальных постов пользователя с именем Joel Coehoorn получили хотя бы один голос?"
   ]
  },
  {
   "cell_type": "markdown",
   "id": "71a4f24a",
   "metadata": {},
   "source": [
    "```postgresql\n",
    "SELECT COUNT(DISTINCT(post_id))  \n",
    "FROM stackoverflow.votes AS v  \n",
    "WHERE post_id IN (  \n",
    "    SELECT p.id  \n",
    "    FROM stackoverflow.posts AS p  \n",
    "    JOIN stackoverflow.users AS u ON p.user_id = u.id  \n",
    "    WHERE u.display_name = 'Joel Coehoorn'   \n",
    "   )   \n",
    "```"
   ]
  },
  {
   "cell_type": "markdown",
   "id": "92f278d4",
   "metadata": {},
   "source": [
    "**1.5** Выгрузите все поля таблицы `vote_types`. Добавьте к таблице поле `rank`, в которое войдут номера записей в обратном порядке. Таблица должна быть отсортирована по полю `id`."
   ]
  },
  {
   "cell_type": "markdown",
   "id": "83a64e5d",
   "metadata": {},
   "source": [
    "```postgresql\n",
    "SELECT *,\n",
    "       RANK() OVER(ORDER BY id DESC)\n",
    "FROM stackoverflow.vote_types\n",
    "ORDER BY id\n",
    "```"
   ]
  },
  {
   "cell_type": "markdown",
   "id": "088821e3",
   "metadata": {},
   "source": [
    "**1.6** Отберите 10 пользователей, которые поставили больше всего голосов типа `Close`. Отобразите таблицу из двух полей: идентификатором пользователя и количеством голосов. Отсортируйте данные сначала по убыванию количества голосов, потом по убыванию значения идентификатора пользователя."
   ]
  },
  {
   "cell_type": "markdown",
   "id": "2434400e",
   "metadata": {},
   "source": [
    "```postgresql\n",
    "SELECT DISTINCT(user_id) AS us,\n",
    "       COUNT(v.id) OVER(PARTITION BY v.user_id) AS cnt\n",
    "FROM stackoverflow.votes AS v\n",
    "JOIN stackoverflow.vote_types AS vt ON v.vote_type_id = vt.id\n",
    "WHERE vt.id = 6\n",
    "ORDER BY cnt DESC, us DESC\n",
    "LIMIT 10\n",
    "```"
   ]
  },
  {
   "cell_type": "markdown",
   "id": "a4c8b7ae",
   "metadata": {},
   "source": [
    "**1.7** Отберите 10 пользователей по количеству значков, полученных в период с 15 ноября по 15 декабря 2008 года включительно.\n",
    "\n",
    "Отобразите несколько полей:\n",
    "- идентификатор пользователя;\n",
    "- число значков;\n",
    "- место в рейтинге — чем больше значков, тем выше рейтинг.\n",
    "\n",
    "Пользователям, которые набрали одинаковое количество значков, присвойте одно и то же место в рейтинге.\n",
    "\n",
    "Отсортируйте записи по количеству значков по убыванию, а затем по возрастанию значения идентификатора пользователя."
   ]
  },
  {
   "cell_type": "markdown",
   "id": "6f2d01e8",
   "metadata": {},
   "source": [
    "```postgresql\n",
    "WITH us_b AS (\n",
    "    SELECT DISTINCT(u.id) AS us,\n",
    "    COUNT(b.id) OVER(PARTITION BY u.id) AS cnt\n",
    "    FROM stackoverflow.users AS u\n",
    "    JOIN stackoverflow.badges AS b ON u.id = b.user_id\n",
    "    WHERE b.creation_date::date BETWEEN '2008-11-15' AND '2008-12-15'\n",
    "    ORDER BY cnt DESC, us ASC\n",
    "    LIMIT 10\n",
    "    )\n",
    "    \n",
    "SELECT *,\n",
    "       DENSE_RANK() OVER(ORDER BY cnt DESC)\n",
    "FROM us_b\n",
    "```"
   ]
  },
  {
   "cell_type": "markdown",
   "id": "f02d70ea",
   "metadata": {},
   "source": [
    "**1.8** Сколько в среднем очков получает пост каждого пользователя?\n",
    "\n",
    "Сформируйте таблицу из следующих полей:\n",
    "- заголовок поста;\n",
    "- идентификатор пользователя;\n",
    "- число очков поста;\n",
    "- среднее число очков пользователя за пост, округлённое до целого числа.\n",
    "\n",
    "Не учитывайте посты без заголовка, а также те, что набрали ноль очков.\n"
   ]
  },
  {
   "cell_type": "markdown",
   "id": "93716765",
   "metadata": {},
   "source": [
    "```postgresql\n",
    "SELECT title, \n",
    "       user_id,\n",
    "       score,\n",
    "       ROUND(AVG(score) OVER(PARTITION BY user_id))\n",
    "FROM stackoverflow.posts\n",
    "WHERE score != 0 AND title IS NOT NULL\n",
    "```"
   ]
  },
  {
   "cell_type": "markdown",
   "id": "0b79bfc4",
   "metadata": {},
   "source": [
    "**1.9** Отобразите заголовки постов, которые были написаны пользователями, получившими более 1000 значков. Посты без заголовков не должны попасть в список."
   ]
  },
  {
   "cell_type": "markdown",
   "id": "de8c8eb4",
   "metadata": {},
   "source": [
    "```postgresql\n",
    "SELECT title\n",
    "FROM stackoverflow.posts AS p\n",
    "WHERE title IS NOT NULL AND user_id IN (\n",
    "    SELECT DISTINCT(u.id) AS us\n",
    "    FROM stackoverflow.users AS u\n",
    "    JOIN stackoverflow.badges AS b ON u.id = b.user_id\n",
    "    GROUP BY u.id\n",
    "    HAVING COUNT(b.id) > 1000\n",
    "    )\n",
    "```"
   ]
  },
  {
   "cell_type": "markdown",
   "id": "66d32d6e",
   "metadata": {},
   "source": [
    "**1.10** Напишите запрос, который выгрузит данные о пользователях из Канады (англ. Canada). Разделите пользователей на три группы в зависимости от количества просмотров их профилей:\n",
    "- пользователям с числом просмотров больше либо равным 350 присвойте группу 1;\n",
    "- пользователям с числом просмотров меньше 350, но больше либо равно 100 — группу 2;\n",
    "- пользователям с числом просмотров меньше 100 — группу 3.\n",
    "\n",
    "Отобразите в итоговой таблице идентификатор пользователя, количество просмотров профиля и группу. Пользователи с количеством просмотров меньше либо равным нулю не должны войти в итоговую таблицу.\n"
   ]
  },
  {
   "cell_type": "markdown",
   "id": "7a402215",
   "metadata": {},
   "source": [
    "```postgresql\n",
    "SELECT DISTINCT(id),\n",
    "       views,\n",
    "       CASE\n",
    "           WHEN views >= 350 THEN 1\n",
    "           WHEN views < 350 AND views >= 100 THEN 2\n",
    "           WHEN views < 100 THEN 3\n",
    "       END\n",
    "FROM stackoverflow.users\n",
    "WHERE location LIKE '%Canada%' AND views != 0\n",
    "```"
   ]
  },
  {
   "cell_type": "markdown",
   "id": "1b88495c",
   "metadata": {},
   "source": [
    "**1.11** Дополните предыдущий запрос. Отобразите лидеров каждой группы — пользователей, которые набрали максимальное число просмотров в своей группе. Выведите поля с идентификатором пользователя, группой и количеством просмотров. Отсортируйте таблицу по убыванию просмотров, а затем по возрастанию значения идентификатора."
   ]
  },
  {
   "cell_type": "markdown",
   "id": "fe92200e",
   "metadata": {},
   "source": [
    "```postgresql\n",
    "WITH gr AS (\n",
    "    SELECT DISTINCT(id) AS us,\n",
    "           views AS v,\n",
    "           CASE\n",
    "               WHEN views >= 350 THEN 1\n",
    "               WHEN views < 350 AND views >= 100 THEN 2\n",
    "               WHEN views < 100 THEN 3\n",
    "           END AS grp\n",
    "    FROM stackoverflow.users\n",
    "    WHERE location LIKE '%Canada%' AND views != 0\n",
    "    ),\n",
    "    tab_1  AS (\n",
    "        SELECT *,\n",
    "               DENSE_RANK() OVER(PARTITION BY grp ORDER BY v DESC) AS rn       \n",
    "        FROM gr\n",
    "        )\n",
    "SELECT us, grp, v\n",
    "FROM tab_1\n",
    "WHERE rn = 1\n",
    "ORDER BY v DESC, us\n",
    "```"
   ]
  },
  {
   "cell_type": "markdown",
   "id": "a8bc0fbf",
   "metadata": {},
   "source": [
    "**1.12** Посчитайте ежедневный прирост новых пользователей в ноябре 2008 года. Сформируйте таблицу с полями:\n",
    "- номер дня;\n",
    "- число пользователей, зарегистрированных в этот день;\n",
    "- сумму пользователей с накоплением."
   ]
  },
  {
   "cell_type": "markdown",
   "id": "8f6ed114",
   "metadata": {},
   "source": [
    "```postgresql\n",
    "SELECT ROW_NUMBER() OVER(),\n",
    "       COUNT(id),\n",
    "       SUM(COUNT(id)) OVER(ORDER BY creation_date::date)\n",
    "       \n",
    "FROM stackoverflow.users\n",
    "WHERE creation_date::date BETWEEN '2008-11-01' AND '2008-11-30'\n",
    "GROUP BY creation_date::date\n",
    "```"
   ]
  },
  {
   "cell_type": "markdown",
   "id": "02f5e86a",
   "metadata": {},
   "source": [
    "**1.13** Для каждого пользователя, который написал хотя бы один пост, найдите интервал между регистрацией и временем создания первого поста. Отобразите:\n",
    "- идентификатор пользователя;\n",
    "- разницу во времени между регистрацией и первым постом."
   ]
  },
  {
   "cell_type": "markdown",
   "id": "3822b415",
   "metadata": {},
   "source": [
    "```postgresql\n",
    "SELECT DISTINCT(user_id),\n",
    "       MIN(p.creation_date) OVER(PARTITION BY user_id)-u.creation_date\n",
    "FROM stackoverflow.posts AS p \n",
    "JOIN stackoverflow.users AS u ON p.user_id = u.id\n",
    "```"
   ]
  },
  {
   "cell_type": "markdown",
   "id": "7de7f267",
   "metadata": {},
   "source": [
    "**2.1** Выведите общую сумму просмотров у постов, опубликованных в каждый месяц 2008 года. Если данных за какой-либо месяц в базе нет, такой месяц можно пропустить. Результат отсортируйте по убыванию общего количества просмотров."
   ]
  },
  {
   "cell_type": "markdown",
   "id": "9a6b8879",
   "metadata": {},
   "source": [
    "```postgresql\n",
    "SELECT DATE_TRUNC('month', creation_date)::date,\n",
    "       SUM(views_count) AS s\n",
    "FROM stackoverflow.posts\n",
    "WHERE EXTRACT(YEAR FROM creation_date::date) = 2008\n",
    "GROUP BY DATE_TRUNC('month', creation_date)::date\n",
    "ORDER BY s DESC\n",
    "```"
   ]
  },
  {
   "cell_type": "markdown",
   "id": "3acdd763",
   "metadata": {},
   "source": [
    "**2.2** Выведите имена самых активных пользователей, которые в первый месяц после регистрации (включая день регистрации) дали больше 100 ответов. Вопросы, которые задавали пользователи, не учитывайте. Для каждого имени пользователя выведите количество уникальных значений `user_id`. Отсортируйте результат по полю с именами в лексикографическом порядке."
   ]
  },
  {
   "cell_type": "markdown",
   "id": "e26411e0",
   "metadata": {},
   "source": [
    "```postgresql\n",
    "SELECT display_name,\n",
    "       COUNT(DISTINCT(user_id))\n",
    "FROM stackoverflow.users AS u\n",
    "JOIN stackoverflow.posts AS p ON u.id = p.user_id\n",
    "WHERE p.post_type_id = 2 \n",
    "      AND p.creation_date::date >= u.creation_date::date \n",
    "      AND p.creation_date::date <= (u.creation_date::date + INTERVAL '1 month')\n",
    "GROUP BY u.display_name\n",
    "HAVING COUNT(p.id) > 100\n",
    "ORDER BY display_name\n",
    "```"
   ]
  },
  {
   "cell_type": "markdown",
   "id": "d5288663",
   "metadata": {},
   "source": [
    "**2.3** Выведите количество постов за 2008 год по месяцам. Отберите посты от пользователей, которые зарегистрировались в сентябре 2008 года и сделали хотя бы один пост в декабре того же года. Отсортируйте таблицу по значению месяца по убыванию."
   ]
  },
  {
   "cell_type": "markdown",
   "id": "d1d06e16",
   "metadata": {},
   "source": [
    "```postgresql\n",
    "SELECT DATE_TRUNC('month', creation_date)::date AS dt,\n",
    "       COUNT(id) AS cnt\n",
    "FROM stackoverflow.posts\n",
    "WHERE EXTRACT(YEAR FROM creation_date::date) = 2008\n",
    "      AND user_id IN (\n",
    "      SELECT u.id\n",
    "    FROM stackoverflow.users AS u\n",
    "    JOIN stackoverflow.posts AS p ON u.id = p.user_id\n",
    "    WHERE u.creation_date::date BETWEEN '2008-09-01' AND '2008-09-30'\n",
    "      AND DATE_TRUNC('month', p.creation_date::date) = '2008-12-01')\n",
    "GROUP BY DATE_TRUNC('month', creation_date)::date\n",
    "ORDER BY dt DESC\n",
    "```"
   ]
  },
  {
   "cell_type": "markdown",
   "id": "82aef746",
   "metadata": {},
   "source": [
    "**2.4** Используя данные о постах, выведите несколько полей:\n",
    "- идентификатор пользователя, который написал пост;\n",
    "- дата создания поста;\n",
    "- количество просмотров у текущего поста;\n",
    "- сумма просмотров постов автора с накоплением.\n",
    "\n",
    "Данные в таблице должны быть отсортированы по возрастанию идентификаторов пользователей, а данные об одном и том же пользователе — по возрастанию даты создания поста."
   ]
  },
  {
   "cell_type": "markdown",
   "id": "ccce0435",
   "metadata": {},
   "source": [
    "```postgresql\n",
    "SELECT user_id,\n",
    "       creation_date,\n",
    "       views_count,\n",
    "       SUM(views_count) OVER(PARTITION BY user_id ORDER BY creation_date)\n",
    "       \n",
    "FROM stackoverflow.posts\n",
    "ORDER BY user_id, creation_date\n",
    "```"
   ]
  },
  {
   "cell_type": "markdown",
   "id": "3ea9743c",
   "metadata": {},
   "source": [
    "**2.5** Сколько в среднем дней в период с 1 по 7 декабря 2008 года включительно пользователи взаимодействовали с платформой? Для каждого пользователя отберите дни, в которые он или она опубликовали хотя бы один пост. Нужно получить одно целое число — не забудьте округлить результат."
   ]
  },
  {
   "cell_type": "markdown",
   "id": "a5591ba1",
   "metadata": {},
   "source": [
    "```postgresql\n",
    "WITH u AS (\n",
    "SELECT DISTINCT(user_id) AS us,\n",
    "       creation_date::date AS dt,\n",
    "       COUNT(creation_date) OVER(PARTITION BY user_id, creation_date::date) AS cnt\n",
    "FROM stackoverflow.posts\n",
    "WHERE creation_date::date BETWEEN '2008-12-01' AND '2008-12-07'\n",
    "ORDER BY user_id\n",
    "    ),\n",
    "    us_cn AS (\n",
    "SELECT DISTINCT(us) AS us,\n",
    "       COUNT(dt) OVER(PARTITION BY us) AS cnt\n",
    "FROM u\n",
    "        )\n",
    "        SELECT ROUND(AVG(cnt))\n",
    "        FROM us_cn\n",
    "```"
   ]
  },
  {
   "cell_type": "markdown",
   "id": "971687b7",
   "metadata": {},
   "source": [
    "**2.6** На сколько процентов менялось количество постов ежемесячно с 1 сентября по 31 декабря 2008 года? Отобразите таблицу со следующими полями:\n",
    "- Номер месяца.\n",
    "- Количество постов за месяц.\n",
    "- Процент, который показывает, насколько изменилось количество постов в текущем месяце по сравнению с предыдущим.\n",
    "\n",
    "Если постов стало меньше, значение процента должно быть отрицательным, если больше — положительным. Округлите значение процента до двух знаков после запятой."
   ]
  },
  {
   "cell_type": "markdown",
   "id": "73f61d33",
   "metadata": {},
   "source": [
    "```postgresql\n",
    "WITH mon AS (\n",
    "    SELECT EXTRACT(MONTH FROM creation_date::date) AS dt,\n",
    "           COUNT(id) AS cnt\n",
    "    FROM stackoverflow.posts\n",
    "    WHERE creation_date::date BETWEEN '2008-09-01' AND '2008-12-31'\n",
    "    GROUP BY EXTRACT(MONTH FROM creation_date::date)\n",
    "    ORDER BY dt\n",
    "    ),\n",
    "    nx AS (\n",
    "        SELECT *,\n",
    "               LAG(cnt) OVER(ORDER BY dt) AS nxt\n",
    "        FROM mon\n",
    "        )\n",
    "SELECT dt,\n",
    "       cnt,\n",
    "       ROUND((cnt::numeric/nxt::numeric - 1) * 100, 2)\n",
    "FROM nx\n",
    "```"
   ]
  },
  {
   "cell_type": "markdown",
   "id": "f44bb0fd",
   "metadata": {},
   "source": [
    "**2.7** Найдите пользователя, который опубликовал больше всего постов за всё время с момента регистрации. Выведите данные его активности за октябрь 2008 года в таком виде:\n",
    "- номер недели;\n",
    "- дата и время последнего поста, опубликованного на этой неделе."
   ]
  },
  {
   "cell_type": "markdown",
   "id": "82335e67",
   "metadata": {},
   "source": [
    "```postgresql\n",
    "WITH usr AS (\n",
    "    SELECT DISTINCT(user_id) AS us,\n",
    "           COUNT(id) OVER(PARTITION BY user_id) AS cnt\n",
    "    FROM stackoverflow.posts\n",
    "    ORDER BY cnt DESC\n",
    "    LIMIT 1\n",
    "    )\n",
    "SELECT DISTINCT(EXTRACT(WEEK FROM creation_date::date)),\n",
    "       MAX(creation_date) OVER(PARTITION BY EXTRACT(WEEK FROM creation_date::date))\n",
    "FROM stackoverflow.posts AS p\n",
    "JOIN usr ON p.user_id = usr.us\n",
    "WHERE creation_date::date BETWEEN '2008-10-01' AND '2008-10-31'\n",
    "```"
   ]
  }
 ],
 "metadata": {
  "kernelspec": {
   "display_name": "Python 3 (ipykernel)",
   "language": "python",
   "name": "python3"
  },
  "language_info": {
   "codemirror_mode": {
    "name": "ipython",
    "version": 3
   },
   "file_extension": ".py",
   "mimetype": "text/x-python",
   "name": "python",
   "nbconvert_exporter": "python",
   "pygments_lexer": "ipython3",
   "version": "3.11.5"
  },
  "toc": {
   "base_numbering": 1,
   "nav_menu": {},
   "number_sections": false,
   "sideBar": true,
   "skip_h1_title": false,
   "title_cell": "Содержание",
   "title_sidebar": "Содержание",
   "toc_cell": false,
   "toc_position": {},
   "toc_section_display": true,
   "toc_window_display": false
  }
 },
 "nbformat": 4,
 "nbformat_minor": 5
}
